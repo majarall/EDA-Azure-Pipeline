{
 "cells": [
  {
   "cell_type": "code",
   "execution_count": 11,
   "id": "05d8291d-9c49-4b4e-ad3d-ef55b5c577d5",
   "metadata": {},
   "outputs": [],
   "source": [
    "import numpy as np \n",
    "import pandas as pd \n",
    "import matplotlib.pylab as plt\n",
    "import seaborn as sns"
   ]
  },
  {
   "cell_type": "markdown",
   "id": "a5923d38-ff44-4d4f-a58e-9c3b2624e0d3",
   "metadata": {},
   "source": [
    "### Observations\n",
    "\n",
    "- Feature 2: Showing an interesting trend\n",
    "- Feature 3: Almost all NaN values \n",
    "- Feature 5 and 6: boolean\n",
    "- Feature 7: discrete values in cluster\n",
    "- Feature 8: discre\n",
    "\n",
    "##### Pairplot observations \n",
    "- Feature 1 and Y: Increasing in Feature 1 deacreses Y\n",
    "- Similar for Feature 2\n",
    "- "
   ]
  },
  {
   "cell_type": "code",
   "execution_count": 2,
   "id": "7f4bb7f2-3d1a-48f6-8ac7-0ee4af3be02c",
   "metadata": {},
   "outputs": [
    {
     "data": {
      "text/html": [
       "<div>\n",
       "<style scoped>\n",
       "    .dataframe tbody tr th:only-of-type {\n",
       "        vertical-align: middle;\n",
       "    }\n",
       "\n",
       "    .dataframe tbody tr th {\n",
       "        vertical-align: top;\n",
       "    }\n",
       "\n",
       "    .dataframe thead th {\n",
       "        text-align: right;\n",
       "    }\n",
       "</style>\n",
       "<table border=\"1\" class=\"dataframe\">\n",
       "  <thead>\n",
       "    <tr style=\"text-align: right;\">\n",
       "      <th></th>\n",
       "      <th>Y</th>\n",
       "      <th>Feature 1</th>\n",
       "      <th>Feature 2</th>\n",
       "      <th>Feature 3</th>\n",
       "      <th>Feature 4</th>\n",
       "      <th>Feature 5</th>\n",
       "      <th>Feature 6</th>\n",
       "      <th>Feature 7</th>\n",
       "      <th>Feature 8</th>\n",
       "      <th>Feature 9</th>\n",
       "    </tr>\n",
       "  </thead>\n",
       "  <tbody>\n",
       "    <tr>\n",
       "      <th>0</th>\n",
       "      <td>13500</td>\n",
       "      <td>23</td>\n",
       "      <td>46986</td>\n",
       "      <td>1.0</td>\n",
       "      <td>90</td>\n",
       "      <td>1</td>\n",
       "      <td>0</td>\n",
       "      <td>2000</td>\n",
       "      <td>3</td>\n",
       "      <td>1165</td>\n",
       "    </tr>\n",
       "    <tr>\n",
       "      <th>1</th>\n",
       "      <td>13750</td>\n",
       "      <td>23</td>\n",
       "      <td>72937</td>\n",
       "      <td>1.0</td>\n",
       "      <td>90</td>\n",
       "      <td>1</td>\n",
       "      <td>0</td>\n",
       "      <td>2000</td>\n",
       "      <td>3</td>\n",
       "      <td>1165</td>\n",
       "    </tr>\n",
       "    <tr>\n",
       "      <th>2</th>\n",
       "      <td>13950</td>\n",
       "      <td>24</td>\n",
       "      <td>41711</td>\n",
       "      <td>1.0</td>\n",
       "      <td>90</td>\n",
       "      <td>1</td>\n",
       "      <td>0</td>\n",
       "      <td>2000</td>\n",
       "      <td>3</td>\n",
       "      <td>1165</td>\n",
       "    </tr>\n",
       "    <tr>\n",
       "      <th>3</th>\n",
       "      <td>14950</td>\n",
       "      <td>26</td>\n",
       "      <td>48000</td>\n",
       "      <td>1.0</td>\n",
       "      <td>90</td>\n",
       "      <td>0</td>\n",
       "      <td>0</td>\n",
       "      <td>2000</td>\n",
       "      <td>3</td>\n",
       "      <td>1165</td>\n",
       "    </tr>\n",
       "    <tr>\n",
       "      <th>4</th>\n",
       "      <td>13750</td>\n",
       "      <td>30</td>\n",
       "      <td>38500</td>\n",
       "      <td>1.0</td>\n",
       "      <td>90</td>\n",
       "      <td>0</td>\n",
       "      <td>0</td>\n",
       "      <td>2000</td>\n",
       "      <td>3</td>\n",
       "      <td>1170</td>\n",
       "    </tr>\n",
       "    <tr>\n",
       "      <th>...</th>\n",
       "      <td>...</td>\n",
       "      <td>...</td>\n",
       "      <td>...</td>\n",
       "      <td>...</td>\n",
       "      <td>...</td>\n",
       "      <td>...</td>\n",
       "      <td>...</td>\n",
       "      <td>...</td>\n",
       "      <td>...</td>\n",
       "      <td>...</td>\n",
       "    </tr>\n",
       "    <tr>\n",
       "      <th>1430</th>\n",
       "      <td>8450</td>\n",
       "      <td>80</td>\n",
       "      <td>23000</td>\n",
       "      <td>NaN</td>\n",
       "      <td>86</td>\n",
       "      <td>0</td>\n",
       "      <td>0</td>\n",
       "      <td>1300</td>\n",
       "      <td>3</td>\n",
       "      <td>1015</td>\n",
       "    </tr>\n",
       "    <tr>\n",
       "      <th>1431</th>\n",
       "      <td>7500</td>\n",
       "      <td>69</td>\n",
       "      <td>20544</td>\n",
       "      <td>NaN</td>\n",
       "      <td>86</td>\n",
       "      <td>1</td>\n",
       "      <td>0</td>\n",
       "      <td>1300</td>\n",
       "      <td>3</td>\n",
       "      <td>1025</td>\n",
       "    </tr>\n",
       "    <tr>\n",
       "      <th>1432</th>\n",
       "      <td>10845</td>\n",
       "      <td>72</td>\n",
       "      <td>19000</td>\n",
       "      <td>NaN</td>\n",
       "      <td>86</td>\n",
       "      <td>0</td>\n",
       "      <td>0</td>\n",
       "      <td>1300</td>\n",
       "      <td>3</td>\n",
       "      <td>1015</td>\n",
       "    </tr>\n",
       "    <tr>\n",
       "      <th>1433</th>\n",
       "      <td>8500</td>\n",
       "      <td>71</td>\n",
       "      <td>17016</td>\n",
       "      <td>NaN</td>\n",
       "      <td>86</td>\n",
       "      <td>0</td>\n",
       "      <td>0</td>\n",
       "      <td>1300</td>\n",
       "      <td>3</td>\n",
       "      <td>1015</td>\n",
       "    </tr>\n",
       "    <tr>\n",
       "      <th>1434</th>\n",
       "      <td>7250</td>\n",
       "      <td>70</td>\n",
       "      <td>16916</td>\n",
       "      <td>NaN</td>\n",
       "      <td>86</td>\n",
       "      <td>1</td>\n",
       "      <td>0</td>\n",
       "      <td>1300</td>\n",
       "      <td>3</td>\n",
       "      <td>1015</td>\n",
       "    </tr>\n",
       "  </tbody>\n",
       "</table>\n",
       "<p>1435 rows × 10 columns</p>\n",
       "</div>"
      ],
      "text/plain": [
       "          Y  Feature 1  Feature 2  Feature 3  Feature 4  Feature 5  Feature 6  \\\n",
       "0     13500         23      46986        1.0         90          1          0   \n",
       "1     13750         23      72937        1.0         90          1          0   \n",
       "2     13950         24      41711        1.0         90          1          0   \n",
       "3     14950         26      48000        1.0         90          0          0   \n",
       "4     13750         30      38500        1.0         90          0          0   \n",
       "...     ...        ...        ...        ...        ...        ...        ...   \n",
       "1430   8450         80      23000        NaN         86          0          0   \n",
       "1431   7500         69      20544        NaN         86          1          0   \n",
       "1432  10845         72      19000        NaN         86          0          0   \n",
       "1433   8500         71      17016        NaN         86          0          0   \n",
       "1434   7250         70      16916        NaN         86          1          0   \n",
       "\n",
       "      Feature 7  Feature 8  Feature 9  \n",
       "0          2000          3       1165  \n",
       "1          2000          3       1165  \n",
       "2          2000          3       1165  \n",
       "3          2000          3       1165  \n",
       "4          2000          3       1170  \n",
       "...         ...        ...        ...  \n",
       "1430       1300          3       1015  \n",
       "1431       1300          3       1025  \n",
       "1432       1300          3       1015  \n",
       "1433       1300          3       1015  \n",
       "1434       1300          3       1015  \n",
       "\n",
       "[1435 rows x 10 columns]"
      ]
     },
     "execution_count": 2,
     "metadata": {},
     "output_type": "execute_result"
    }
   ],
   "source": [
    "usecols=[\"Feature1\",\"Feature2\",\"Feature3\", \"Y\"]\n",
    "delimiter = \";\"\n",
    "df = pd.read_csv(\"./data.csv\", header=0, sep=delimiter)\n",
    "\n",
    "df.head(-1)"
   ]
  },
  {
   "cell_type": "code",
   "execution_count": 3,
   "id": "8d22d421-b2bf-42d5-9835-18b391e7d1d6",
   "metadata": {},
   "outputs": [
    {
     "data": {
      "text/plain": [
       "(1436, 10)"
      ]
     },
     "execution_count": 3,
     "metadata": {},
     "output_type": "execute_result"
    }
   ],
   "source": [
    "df.shape"
   ]
  },
  {
   "cell_type": "code",
   "execution_count": 4,
   "id": "f1903e49-4ce0-46ab-bfd5-cc4136d54f37",
   "metadata": {},
   "outputs": [
    {
     "name": "stdout",
     "output_type": "stream",
     "text": [
      "<class 'pandas.core.frame.DataFrame'>\n",
      "RangeIndex: 1436 entries, 0 to 1435\n",
      "Data columns (total 10 columns):\n",
      " #   Column     Non-Null Count  Dtype  \n",
      "---  ------     --------------  -----  \n",
      " 0   Y          1436 non-null   int64  \n",
      " 1   Feature 1  1436 non-null   int64  \n",
      " 2   Feature 2  1436 non-null   int64  \n",
      " 3   Feature 3  414 non-null    float64\n",
      " 4   Feature 4  1436 non-null   int64  \n",
      " 5   Feature 5  1436 non-null   int64  \n",
      " 6   Feature 6  1436 non-null   int64  \n",
      " 7   Feature 7  1436 non-null   int64  \n",
      " 8   Feature 8  1436 non-null   int64  \n",
      " 9   Feature 9  1436 non-null   int64  \n",
      "dtypes: float64(1), int64(9)\n",
      "memory usage: 112.3 KB\n"
     ]
    }
   ],
   "source": [
    "df.info()"
   ]
  },
  {
   "cell_type": "code",
   "execution_count": 5,
   "id": "92c28c3f-2c84-45b3-b22b-99379e81b5f0",
   "metadata": {},
   "outputs": [
    {
     "data": {
      "text/html": [
       "<div>\n",
       "<style scoped>\n",
       "    .dataframe tbody tr th:only-of-type {\n",
       "        vertical-align: middle;\n",
       "    }\n",
       "\n",
       "    .dataframe tbody tr th {\n",
       "        vertical-align: top;\n",
       "    }\n",
       "\n",
       "    .dataframe thead th {\n",
       "        text-align: right;\n",
       "    }\n",
       "</style>\n",
       "<table border=\"1\" class=\"dataframe\">\n",
       "  <thead>\n",
       "    <tr style=\"text-align: right;\">\n",
       "      <th></th>\n",
       "      <th>Y</th>\n",
       "      <th>Feature 1</th>\n",
       "      <th>Feature 2</th>\n",
       "      <th>Feature 3</th>\n",
       "      <th>Feature 4</th>\n",
       "      <th>Feature 5</th>\n",
       "      <th>Feature 6</th>\n",
       "      <th>Feature 7</th>\n",
       "      <th>Feature 8</th>\n",
       "      <th>Feature 9</th>\n",
       "    </tr>\n",
       "  </thead>\n",
       "  <tbody>\n",
       "    <tr>\n",
       "      <th>count</th>\n",
       "      <td>1436.000000</td>\n",
       "      <td>1436.000000</td>\n",
       "      <td>1436.000000</td>\n",
       "      <td>414.000000</td>\n",
       "      <td>1436.000000</td>\n",
       "      <td>1436.000000</td>\n",
       "      <td>1436.000000</td>\n",
       "      <td>1436.000000</td>\n",
       "      <td>1436.000000</td>\n",
       "      <td>1436.00000</td>\n",
       "    </tr>\n",
       "    <tr>\n",
       "      <th>mean</th>\n",
       "      <td>10730.824513</td>\n",
       "      <td>55.947075</td>\n",
       "      <td>68533.259749</td>\n",
       "      <td>0.173913</td>\n",
       "      <td>101.502089</td>\n",
       "      <td>0.674791</td>\n",
       "      <td>0.055710</td>\n",
       "      <td>1566.827994</td>\n",
       "      <td>4.033426</td>\n",
       "      <td>1072.45961</td>\n",
       "    </tr>\n",
       "    <tr>\n",
       "      <th>std</th>\n",
       "      <td>3626.964585</td>\n",
       "      <td>18.599988</td>\n",
       "      <td>37506.448872</td>\n",
       "      <td>0.379493</td>\n",
       "      <td>14.981080</td>\n",
       "      <td>0.468616</td>\n",
       "      <td>0.229441</td>\n",
       "      <td>187.182436</td>\n",
       "      <td>0.952677</td>\n",
       "      <td>52.64112</td>\n",
       "    </tr>\n",
       "    <tr>\n",
       "      <th>min</th>\n",
       "      <td>4350.000000</td>\n",
       "      <td>1.000000</td>\n",
       "      <td>1.000000</td>\n",
       "      <td>0.000000</td>\n",
       "      <td>69.000000</td>\n",
       "      <td>0.000000</td>\n",
       "      <td>0.000000</td>\n",
       "      <td>1300.000000</td>\n",
       "      <td>2.000000</td>\n",
       "      <td>1000.00000</td>\n",
       "    </tr>\n",
       "    <tr>\n",
       "      <th>25%</th>\n",
       "      <td>8450.000000</td>\n",
       "      <td>44.000000</td>\n",
       "      <td>43000.000000</td>\n",
       "      <td>0.000000</td>\n",
       "      <td>90.000000</td>\n",
       "      <td>0.000000</td>\n",
       "      <td>0.000000</td>\n",
       "      <td>1400.000000</td>\n",
       "      <td>3.000000</td>\n",
       "      <td>1040.00000</td>\n",
       "    </tr>\n",
       "    <tr>\n",
       "      <th>50%</th>\n",
       "      <td>9900.000000</td>\n",
       "      <td>61.000000</td>\n",
       "      <td>63389.500000</td>\n",
       "      <td>0.000000</td>\n",
       "      <td>110.000000</td>\n",
       "      <td>1.000000</td>\n",
       "      <td>0.000000</td>\n",
       "      <td>1600.000000</td>\n",
       "      <td>4.000000</td>\n",
       "      <td>1070.00000</td>\n",
       "    </tr>\n",
       "    <tr>\n",
       "      <th>75%</th>\n",
       "      <td>11950.000000</td>\n",
       "      <td>70.000000</td>\n",
       "      <td>87020.750000</td>\n",
       "      <td>0.000000</td>\n",
       "      <td>110.000000</td>\n",
       "      <td>1.000000</td>\n",
       "      <td>0.000000</td>\n",
       "      <td>1600.000000</td>\n",
       "      <td>5.000000</td>\n",
       "      <td>1085.00000</td>\n",
       "    </tr>\n",
       "    <tr>\n",
       "      <th>max</th>\n",
       "      <td>32500.000000</td>\n",
       "      <td>80.000000</td>\n",
       "      <td>243000.000000</td>\n",
       "      <td>1.000000</td>\n",
       "      <td>192.000000</td>\n",
       "      <td>1.000000</td>\n",
       "      <td>1.000000</td>\n",
       "      <td>2000.000000</td>\n",
       "      <td>5.000000</td>\n",
       "      <td>1615.00000</td>\n",
       "    </tr>\n",
       "  </tbody>\n",
       "</table>\n",
       "</div>"
      ],
      "text/plain": [
       "                  Y    Feature 1      Feature 2   Feature 3    Feature 4  \\\n",
       "count   1436.000000  1436.000000    1436.000000  414.000000  1436.000000   \n",
       "mean   10730.824513    55.947075   68533.259749    0.173913   101.502089   \n",
       "std     3626.964585    18.599988   37506.448872    0.379493    14.981080   \n",
       "min     4350.000000     1.000000       1.000000    0.000000    69.000000   \n",
       "25%     8450.000000    44.000000   43000.000000    0.000000    90.000000   \n",
       "50%     9900.000000    61.000000   63389.500000    0.000000   110.000000   \n",
       "75%    11950.000000    70.000000   87020.750000    0.000000   110.000000   \n",
       "max    32500.000000    80.000000  243000.000000    1.000000   192.000000   \n",
       "\n",
       "         Feature 5    Feature 6    Feature 7    Feature 8   Feature 9  \n",
       "count  1436.000000  1436.000000  1436.000000  1436.000000  1436.00000  \n",
       "mean      0.674791     0.055710  1566.827994     4.033426  1072.45961  \n",
       "std       0.468616     0.229441   187.182436     0.952677    52.64112  \n",
       "min       0.000000     0.000000  1300.000000     2.000000  1000.00000  \n",
       "25%       0.000000     0.000000  1400.000000     3.000000  1040.00000  \n",
       "50%       1.000000     0.000000  1600.000000     4.000000  1070.00000  \n",
       "75%       1.000000     0.000000  1600.000000     5.000000  1085.00000  \n",
       "max       1.000000     1.000000  2000.000000     5.000000  1615.00000  "
      ]
     },
     "execution_count": 5,
     "metadata": {},
     "output_type": "execute_result"
    }
   ],
   "source": [
    "df.describe() "
   ]
  },
  {
   "cell_type": "code",
   "execution_count": 6,
   "id": "fd322cdd-f711-4644-8deb-ff491afd82f4",
   "metadata": {},
   "outputs": [
    {
     "data": {
      "text/plain": [
       "<Axes: >"
      ]
     },
     "execution_count": 6,
     "metadata": {},
     "output_type": "execute_result"
    },
    {
     "data": {
      "image/png": "[encoded data removed]",
      "text/plain": [
       "<Figure size 640x480 with 1 Axes>"
      ]
     },
     "metadata": {},
     "output_type": "display_data"
    }
   ],
   "source": [
    "df[[\"Feature 7\", \"Y\"]].plot()\n"
   ]
  },
  {
   "cell_type": "code",
   "execution_count": 23,
   "id": "d0b2d33a-c7f8-49d4-941d-54ba0266d104",
   "metadata": {},
   "outputs": [
    {
     "name": "stdout",
     "output_type": "stream",
     "text": [
      "Feature 8\n",
      "5    674\n",
      "3    622\n",
      "4    138\n",
      "2      2\n",
      "Name: count, dtype: int64\n"
     ]
    }
   ],
   "source": [
    "print(df[\"Feature 8\"].value_counts())"
   ]
  },
  {
   "cell_type": "code",
   "execution_count": 9,
   "id": "52f624ff-01a3-41f4-90dc-84b9d9588b65",
   "metadata": {},
   "outputs": [
    {
     "data": {
      "text/plain": [
       "<Axes: ylabel='count'>"
      ]
     },
     "execution_count": 9,
     "metadata": {},
     "output_type": "execute_result"
    },
    {
     "data": {
      "image/png": "[encoded data removed]",
      "text/plain": [
       "<Figure size 640x480 with 1 Axes>"
      ]
     },
     "metadata": {},
     "output_type": "display_data"
    }
   ],
   "source": [
    "df[\"Feature 5\"].value_counts().plot.pie()"
   ]
  },
  {
   "cell_type": "code",
   "execution_count": 21,
   "id": "82e0c3b9-a06f-4d0d-ae47-c2df6adc2554",
   "metadata": {},
   "outputs": [
    {
     "data": {
      "text/plain": [
       "Y               0\n",
       "Feature 1       0\n",
       "Feature 2       0\n",
       "Feature 3    1022\n",
       "Feature 4       0\n",
       "Feature 5       0\n",
       "Feature 6       0\n",
       "Feature 7       0\n",
       "Feature 8       0\n",
       "Feature 9       0\n",
       "dtype: int64"
      ]
     },
     "execution_count": 21,
     "metadata": {},
     "output_type": "execute_result"
    }
   ],
   "source": [
    "df.isna().sum()"
   ]
  },
  {
   "cell_type": "code",
   "execution_count": 22,
   "id": "1b5d3c58-4172-4303-b967-9a83191ac8fe",
   "metadata": {},
   "outputs": [
    {
     "name": "stderr",
     "output_type": "stream",
     "text": [
      "/home/codespace/.local/lib/python3.10/site-packages/seaborn/axisgrid.py:118: UserWarning: The figure layout has changed to tight\n",
      "  self._figure.tight_layout(*args, **kwargs)\n"
     ]
    },
    {
     "data": {
      "text/plain": [
       "<seaborn.axisgrid.PairGrid at 0x7f25841f26e0>"
      ]
     },
     "execution_count": 22,
     "metadata": {},
     "output_type": "execute_result"
    },
    {
     "data": {
      "image/png": "[encoded data removed]",
      "text/plain": [
       "<Figure size 500x500 with 6 Axes>"
      ]
     },
     "metadata": {},
     "output_type": "display_data"
    }
   ],
   "source": [
    "sns.pairplot(df[[\"Feature 8\", \"Y\"]])"
   ]
  },
  {
   "cell_type": "code",
   "execution_count": null,
   "id": "e2572435-36ee-4ee2-8511-4fde32581a8d",
   "metadata": {},
   "outputs": [],
   "source": []
  }
 ],
 "metadata": {
  "kernelspec": {
   "display_name": "Python 3 (ipykernel)",
   "language": "python",
   "name": "python3"
  },
  "language_info": {
   "codemirror_mode": {
    "name": "ipython",
    "version": 3
   },
   "file_extension": ".py",
   "mimetype": "text/x-python",
   "name": "python",
   "nbconvert_exporter": "python",
   "pygments_lexer": "ipython3",
   "version": "3.10.8"
  }
 },
 "nbformat": 4,
 "nbformat_minor": 5
}
